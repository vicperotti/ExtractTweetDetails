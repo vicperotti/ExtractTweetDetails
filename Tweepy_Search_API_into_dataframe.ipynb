{
  "nbformat": 4,
  "nbformat_minor": 0,
  "metadata": {
    "kernelspec": {
      "display_name": "Python 3",
      "language": "python",
      "name": "python3"
    },
    "language_info": {
      "codemirror_mode": {
        "name": "ipython",
        "version": 3
      },
      "file_extension": ".py",
      "mimetype": "text/x-python",
      "name": "python",
      "nbconvert_exporter": "python",
      "pygments_lexer": "ipython3",
      "version": "3.7.2"
    },
    "colab": {
      "name": "Tweepy Search API into dataframe.ipynb",
      "provenance": [],
      "include_colab_link": true
    }
  },
  "cells": [
    {
      "cell_type": "markdown",
      "metadata": {
        "id": "view-in-github",
        "colab_type": "text"
      },
      "source": [
        "<a href=\"https://colab.research.google.com/github/vicperotti/ExtractTweetDetails/blob/master/Tweepy_Search_API_into_dataframe.ipynb\" target=\"_parent\"><img src=\"https://colab.research.google.com/assets/colab-badge.svg\" alt=\"Open In Colab\"/></a>"
      ]
    },
    {
      "cell_type": "markdown",
      "metadata": {
        "id": "MgmEz9o0xO9P"
      },
      "source": [
        "# Using tweepy's search API"
      ]
    },
    {
      "cell_type": "code",
      "metadata": {
        "id": "bMHbnbxexO9W"
      },
      "source": [
        "import tweepy\n",
        "import pandas as pd\n",
        "import matplotlib as plt\n",
        "%matplotlib inline"
      ],
      "execution_count": 1,
      "outputs": []
    },
    {
      "cell_type": "code",
      "metadata": {
        "id": "r86Nolk8xO9X"
      },
      "source": [
        "#from my developer account app\n",
        "api_key = \"DiJDNAjwROn5vaUl4g7Mvjxd0\"\n",
        "api_secret = \"CMN6xWRtoDhiTO9HdN2jyIvT9Pul4I5dFsmX8ge6ETBZkGrZx0\"\n",
        "access_token = \"1626161-DTJRUNpOa5Sk6ZICYvvPBZtUFYwxbwB5p0DnwAdbrm\"\n",
        "access_secret = \"l6rszj9OvQdRHCOccSesz5YOG4Oq6slrmTdFH7zJizNYj\""
      ],
      "execution_count": 2,
      "outputs": []
    },
    {
      "cell_type": "code",
      "metadata": {
        "id": "CUut2Zc5xVvj"
      },
      "source": [
        "def limit_handled(cursor):\n",
        "    while True:\n",
        "        try:\n",
        "            yield cursor.next()\n",
        "        except tweepy.RateLimitError:\n",
        "            time.sleep(15 * 60)\n",
        "        except StopIteration:\n",
        "          return\n",
        "\n"
      ],
      "execution_count": 6,
      "outputs": []
    },
    {
      "cell_type": "code",
      "metadata": {
        "colab": {
          "base_uri": "https://localhost:8080/"
        },
        "id": "oDmc2YmFxO9X",
        "outputId": "aa7957cc-228a-4fe6-acbb-232ba3fce37c"
      },
      "source": [
        "#get the tweets using the search API\n",
        "\n",
        "auth = tweepy.OAuthHandler(api_key, api_secret)\n",
        "#auth.set_access_token(access_token, access_secret) I read it might be better without access tokens\n",
        "\n",
        "query = \"spacex -filter:retweets\"\n",
        "max_tweets = 20000\n",
        "api = tweepy.API(auth,wait_on_rate_limit=True, wait_on_rate_limit_notify=True)\n",
        "bitcoincashsearch = [status for status in tweepy.Cursor(api.search, q=query, count=100).items(max_tweets) ]\n",
        "len(bitcoincashsearch)"
      ],
      "execution_count": 24,
      "outputs": [
        {
          "output_type": "execute_result",
          "data": {
            "text/plain": [
              "20000"
            ]
          },
          "metadata": {
            "tags": []
          },
          "execution_count": 24
        }
      ]
    },
    {
      "cell_type": "code",
      "metadata": {
        "id": "WU80_CtnxO9Y"
      },
      "source": [
        "#grab a subset of the columns\n",
        "justthegoodstuff = [[tweet.created_at, tweet.text, tweet.retweet_count, tweet.favorite_count, tweet.user.screen_name, tweet.user.location] for tweet in bitcoincashsearch]\n"
      ],
      "execution_count": 25,
      "outputs": []
    },
    {
      "cell_type": "code",
      "metadata": {
        "id": "neQV5Ul7xO9Z"
      },
      "source": [
        "#justthegoodstuff"
      ],
      "execution_count": 13,
      "outputs": []
    },
    {
      "cell_type": "code",
      "metadata": {
        "id": "u4LErdEoxO9Z"
      },
      "source": [
        "#and then make a dataframe\n",
        "df = pd.DataFrame(justthegoodstuff, columns=['created_at','text','retweet_count','favorite_count','screenname','location'])"
      ],
      "execution_count": 26,
      "outputs": []
    },
    {
      "cell_type": "code",
      "metadata": {
        "colab": {
          "base_uri": "https://localhost:8080/"
        },
        "id": "lJXyPv2ixO9a",
        "outputId": "37aced8e-34d9-4276-9692-3af429051409"
      },
      "source": [
        "df['screenname'].value_counts()"
      ],
      "execution_count": 27,
      "outputs": [
        {
          "output_type": "execute_result",
          "data": {
            "text/plain": [
              "TUA_Spacex         142\n",
              "spacex_45           77\n",
              "SpaceXMR            55\n",
              "hiddengems777       52\n",
              "spacex_cowboy90     51\n",
              "                  ... \n",
              "Avalon_Ego           1\n",
              "92newschannel        1\n",
              "stinky561            1\n",
              "Sleinadretep         1\n",
              "LorienteMarc         1\n",
              "Name: screenname, Length: 12932, dtype: int64"
            ]
          },
          "metadata": {
            "tags": []
          },
          "execution_count": 27
        }
      ]
    },
    {
      "cell_type": "code",
      "metadata": {
        "colab": {
          "base_uri": "https://localhost:8080/"
        },
        "id": "TvK_u2Mn0zYt",
        "outputId": "b7cb2e51-2321-48d8-99f2-de79612d294a"
      },
      "source": [
        "!pip install afinn"
      ],
      "execution_count": 18,
      "outputs": [
        {
          "output_type": "stream",
          "text": [
            "Collecting afinn\n",
            "\u001b[?25l  Downloading https://files.pythonhosted.org/packages/86/e5/ffbb7ee3cca21ac6d310ac01944fb163c20030b45bda25421d725d8a859a/afinn-0.1.tar.gz (52kB)\n",
            "\r\u001b[K     |██████▎                         | 10kB 16.4MB/s eta 0:00:01\r\u001b[K     |████████████▌                   | 20kB 14.2MB/s eta 0:00:01\r\u001b[K     |██████████████████▊             | 30kB 9.1MB/s eta 0:00:01\r\u001b[K     |█████████████████████████       | 40kB 7.6MB/s eta 0:00:01\r\u001b[K     |███████████████████████████████▏| 51kB 4.5MB/s eta 0:00:01\r\u001b[K     |████████████████████████████████| 61kB 2.6MB/s \n",
            "\u001b[?25hBuilding wheels for collected packages: afinn\n",
            "  Building wheel for afinn (setup.py) ... \u001b[?25l\u001b[?25hdone\n",
            "  Created wheel for afinn: filename=afinn-0.1-cp37-none-any.whl size=53451 sha256=8b8f3af054d2445a23e76435b87efd76673eedb593a8f6c614f19a21460d4e4e\n",
            "  Stored in directory: /root/.cache/pip/wheels/b5/1c/de/428301f3333ca509dcf20ff358690eb23a1388fbcbbde008b2\n",
            "Successfully built afinn\n",
            "Installing collected packages: afinn\n",
            "Successfully installed afinn-0.1\n"
          ],
          "name": "stdout"
        }
      ]
    },
    {
      "cell_type": "code",
      "metadata": {
        "colab": {
          "base_uri": "https://localhost:8080/"
        },
        "id": "q_cOAs-2xO9a",
        "outputId": "9221e28f-4ca4-49c3-a1b0-60f2ca3566fc"
      },
      "source": [
        "from afinn import Afinn\n",
        "afinn = Afinn(emoticons=True)\n",
        "df['sentiment'] = df.apply (lambda row: afinn.score(row['text']), axis=1)\n",
        "df.keys()"
      ],
      "execution_count": 28,
      "outputs": [
        {
          "output_type": "execute_result",
          "data": {
            "text/plain": [
              "Index(['created_at', 'text', 'retweet_count', 'favorite_count', 'screenname',\n",
              "       'location', 'sentiment'],\n",
              "      dtype='object')"
            ]
          },
          "metadata": {
            "tags": []
          },
          "execution_count": 28
        }
      ]
    },
    {
      "cell_type": "code",
      "metadata": {
        "colab": {
          "base_uri": "https://localhost:8080/",
          "height": 419
        },
        "id": "WKmR36INxO9b",
        "outputId": "5612cfe1-4a51-46eb-cacb-231ebb41c977"
      },
      "source": [
        "df"
      ],
      "execution_count": 29,
      "outputs": [
        {
          "output_type": "execute_result",
          "data": {
            "text/html": [
              "<div>\n",
              "<style scoped>\n",
              "    .dataframe tbody tr th:only-of-type {\n",
              "        vertical-align: middle;\n",
              "    }\n",
              "\n",
              "    .dataframe tbody tr th {\n",
              "        vertical-align: top;\n",
              "    }\n",
              "\n",
              "    .dataframe thead th {\n",
              "        text-align: right;\n",
              "    }\n",
              "</style>\n",
              "<table border=\"1\" class=\"dataframe\">\n",
              "  <thead>\n",
              "    <tr style=\"text-align: right;\">\n",
              "      <th></th>\n",
              "      <th>created_at</th>\n",
              "      <th>text</th>\n",
              "      <th>retweet_count</th>\n",
              "      <th>favorite_count</th>\n",
              "      <th>screenname</th>\n",
              "      <th>location</th>\n",
              "      <th>sentiment</th>\n",
              "    </tr>\n",
              "  </thead>\n",
              "  <tbody>\n",
              "    <tr>\n",
              "      <th>0</th>\n",
              "      <td>2021-03-25 14:40:28</td>\n",
              "      <td>#elongate A fan boy company, hyped up stock va...</td>\n",
              "      <td>0</td>\n",
              "      <td>0</td>\n",
              "      <td>William79713238</td>\n",
              "      <td>USA</td>\n",
              "      <td>1.0</td>\n",
              "    </tr>\n",
              "    <tr>\n",
              "      <th>1</th>\n",
              "      <td>2021-03-25 14:40:18</td>\n",
              "      <td>Yay, more space clutter 🤦 https://t.co/shrunAKjzd</td>\n",
              "      <td>0</td>\n",
              "      <td>0</td>\n",
              "      <td>Lewdeath1</td>\n",
              "      <td>South West, England</td>\n",
              "      <td>0.0</td>\n",
              "    </tr>\n",
              "    <tr>\n",
              "      <th>2</th>\n",
              "      <td>2021-03-25 14:40:15</td>\n",
              "      <td>@GarzaHuracanGza @chematierra @metmex @webcams...</td>\n",
              "      <td>0</td>\n",
              "      <td>0</td>\n",
              "      <td>yunia_linares</td>\n",
              "      <td>Puebla,Pue.</td>\n",
              "      <td>0.0</td>\n",
              "    </tr>\n",
              "    <tr>\n",
              "      <th>3</th>\n",
              "      <td>2021-03-25 14:39:59</td>\n",
              "      <td>@ABurghouts @GraafIvar @NASA @esa @SpaceX @vir...</td>\n",
              "      <td>0</td>\n",
              "      <td>0</td>\n",
              "      <td>phoebeliefs</td>\n",
              "      <td></td>\n",
              "      <td>0.0</td>\n",
              "    </tr>\n",
              "    <tr>\n",
              "      <th>4</th>\n",
              "      <td>2021-03-25 14:39:40</td>\n",
              "      <td>@OtimMichael @nbstv @SpaceX For what purpose? ...</td>\n",
              "      <td>0</td>\n",
              "      <td>0</td>\n",
              "      <td>PSchliephacke</td>\n",
              "      <td></td>\n",
              "      <td>-1.0</td>\n",
              "    </tr>\n",
              "    <tr>\n",
              "      <th>...</th>\n",
              "      <td>...</td>\n",
              "      <td>...</td>\n",
              "      <td>...</td>\n",
              "      <td>...</td>\n",
              "      <td>...</td>\n",
              "      <td>...</td>\n",
              "      <td>...</td>\n",
              "    </tr>\n",
              "    <tr>\n",
              "      <th>19995</th>\n",
              "      <td>2021-03-21 19:57:52</td>\n",
              "      <td>@MinerC1224 @MusicalWolves @SpacePadreIsle @Sp...</td>\n",
              "      <td>2</td>\n",
              "      <td>6</td>\n",
              "      <td>EgamerSfs</td>\n",
              "      <td>The Netherlands</td>\n",
              "      <td>3.0</td>\n",
              "    </tr>\n",
              "    <tr>\n",
              "      <th>19996</th>\n",
              "      <td>2021-03-21 19:57:34</td>\n",
              "      <td>@nielscallesoe Jeg tager skyklapper på og hepp...</td>\n",
              "      <td>0</td>\n",
              "      <td>0</td>\n",
              "      <td>shayera0</td>\n",
              "      <td>Denmark</td>\n",
              "      <td>0.0</td>\n",
              "    </tr>\n",
              "    <tr>\n",
              "      <th>19997</th>\n",
              "      <td>2021-03-21 19:57:16</td>\n",
              "      <td>@mxgxw_alpha Esa narrativa de prolongar la hum...</td>\n",
              "      <td>0</td>\n",
              "      <td>1</td>\n",
              "      <td>CrlsCuchilla</td>\n",
              "      <td>San Salvador</td>\n",
              "      <td>0.0</td>\n",
              "    </tr>\n",
              "    <tr>\n",
              "      <th>19998</th>\n",
              "      <td>2021-03-21 19:56:50</td>\n",
              "      <td>@RenataKonkoly @SpaceX @elonmusk idk is my fav...</td>\n",
              "      <td>0</td>\n",
              "      <td>1</td>\n",
              "      <td>EgamerSfs</td>\n",
              "      <td>The Netherlands</td>\n",
              "      <td>2.0</td>\n",
              "    </tr>\n",
              "    <tr>\n",
              "      <th>19999</th>\n",
              "      <td>2021-03-21 19:56:04</td>\n",
              "      <td>@marwilliamson @elonmusk @cleantechnica He has...</td>\n",
              "      <td>0</td>\n",
              "      <td>0</td>\n",
              "      <td>ArmenK6</td>\n",
              "      <td>Florida, USA</td>\n",
              "      <td>0.0</td>\n",
              "    </tr>\n",
              "  </tbody>\n",
              "</table>\n",
              "<p>20000 rows × 7 columns</p>\n",
              "</div>"
            ],
            "text/plain": [
              "               created_at  ... sentiment\n",
              "0     2021-03-25 14:40:28  ...       1.0\n",
              "1     2021-03-25 14:40:18  ...       0.0\n",
              "2     2021-03-25 14:40:15  ...       0.0\n",
              "3     2021-03-25 14:39:59  ...       0.0\n",
              "4     2021-03-25 14:39:40  ...      -1.0\n",
              "...                   ...  ...       ...\n",
              "19995 2021-03-21 19:57:52  ...       3.0\n",
              "19996 2021-03-21 19:57:34  ...       0.0\n",
              "19997 2021-03-21 19:57:16  ...       0.0\n",
              "19998 2021-03-21 19:56:50  ...       2.0\n",
              "19999 2021-03-21 19:56:04  ...       0.0\n",
              "\n",
              "[20000 rows x 7 columns]"
            ]
          },
          "metadata": {
            "tags": []
          },
          "execution_count": 29
        }
      ]
    },
    {
      "cell_type": "code",
      "metadata": {
        "colab": {
          "base_uri": "https://localhost:8080/",
          "height": 297
        },
        "id": "qdYrKEZXxO9b",
        "outputId": "b95f5ddb-d4a2-406b-f8ab-ad5ffe3eae54"
      },
      "source": [
        "df.plot.line(x='created_at',y='retweet_count')"
      ],
      "execution_count": 30,
      "outputs": [
        {
          "output_type": "execute_result",
          "data": {
            "text/plain": [
              "<matplotlib.axes._subplots.AxesSubplot at 0x7f922f8ed910>"
            ]
          },
          "metadata": {
            "tags": []
          },
          "execution_count": 30
        },
        {
          "output_type": "display_data",
          "data": {
            "image/png": "[encoded data removed]",
            "text/plain": [
              "<Figure size 432x288 with 1 Axes>"
            ]
          },
          "metadata": {
            "tags": [],
            "needs_background": "light"
          }
        }
      ]
    },
    {
      "cell_type": "code",
      "metadata": {
        "colab": {
          "base_uri": "https://localhost:8080/",
          "height": 298
        },
        "id": "ClKMdFr9xO9b",
        "outputId": "7f415386-b1db-4f16-c61c-6fe4f8b319e0"
      },
      "source": [
        "df.plot.line(x='created_at',y='sentiment')"
      ],
      "execution_count": 31,
      "outputs": [
        {
          "output_type": "execute_result",
          "data": {
            "text/plain": [
              "<matplotlib.axes._subplots.AxesSubplot at 0x7f9234e7b350>"
            ]
          },
          "metadata": {
            "tags": []
          },
          "execution_count": 31
        },
        {
          "output_type": "display_data",
          "data": {
            "image/png": "[encoded data removed]",
            "text/plain": [
              "<Figure size 432x288 with 1 Axes>"
            ]
          },
          "metadata": {
            "tags": [],
            "needs_background": "light"
          }
        }
      ]
    },
    {
      "cell_type": "code",
      "metadata": {
        "id": "8u4GItArxO9c"
      },
      "source": [
        "df.to_csv('spacex.csv')"
      ],
      "execution_count": 32,
      "outputs": []
    }
  ]
}